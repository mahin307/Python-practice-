{
  "nbformat": 4,
  "nbformat_minor": 0,
  "metadata": {
    "colab": {
      "provenance": [],
      "authorship_tag": "ABX9TyNeJI+Gl2yJMXtFmBK3bvAE",
      "include_colab_link": true
    },
    "kernelspec": {
      "name": "python3",
      "display_name": "Python 3"
    },
    "language_info": {
      "name": "python"
    }
  },
  "cells": [
    {
      "cell_type": "markdown",
      "metadata": {
        "id": "view-in-github",
        "colab_type": "text"
      },
      "source": [
        "<a href=\"https://colab.research.google.com/github/mahin307/Python-practice-/blob/main/Testing_Module.ipynb\" target=\"_parent\"><img src=\"https://colab.research.google.com/assets/colab-badge.svg\" alt=\"Open In Colab\"/></a>"
      ]
    },
    {
      "cell_type": "code",
      "execution_count": 1,
      "metadata": {
        "id": "TBctngR4lY2m"
      },
      "outputs": [],
      "source": [
        "def add(a, b):\n",
        "  return a + b\n",
        "\n",
        "def sub(a, b):\n",
        "  if a > b:\n",
        "    return a - b\n",
        "  else:\n",
        "    return b - a\n",
        "\n",
        "def mul(a, b):\n",
        "  return a * b\n",
        "\n",
        "def div(a, b):\n",
        "  if b != 0:\n",
        "    return a / b\n",
        "  else:\n",
        "    return \"Infinity\"\n",
        "\n",
        "def pow(a, b):\n",
        "  return a ** b\n",
        "\n",
        "def mod(a, b):\n",
        "  if b != 0:\n",
        "    return a % b\n",
        "  else:\n",
        "    return \"Cannot divide by zero\"\n"
      ]
    },
    {
      "cell_type": "code",
      "source": [
        "import SimCal as s\n",
        "\n",
        "while True:\n",
        "  print(\"Enter 1 to add, \\n2 to subtract, \\n3 for multiplication, \\n4 for division, \\n5 for power, \\n6 for modulus\\n 0 to exit\")\n",
        "\n",
        "  choice = int(input(\"Your Choice:\"))\n",
        "\n",
        "  if choice == 0:\n",
        "     break\n",
        "\n",
        "  if choice == 1:\n",
        "     a = int(input(\"Enter a:\"))\n",
        "     b = int(input(\"Enter b:\"))\n",
        "     print(s.add(a, b))\n",
        "  if choice == 2:\n",
        "     a = int(input(\"Enter a:\"))\n",
        "     b = int(input(\"Enter b:\"))\n",
        "     print(s.sub(a, b))\n",
        "  if choice == 3:\n",
        "     a = int(input(\"Enter a:\"))\n",
        "     b = int(input(\"Enter b:\"))\n",
        "     print(s.mul(a, b))\n",
        "  if choice == 4:\n",
        "     a = int(input(\"Enter a:\"))\n",
        "     b = int(input(\"Enter b:\"))\n",
        "     print(s.div(a, b))\n",
        "  if choice == 5:\n",
        "     a = int(input(\"Enter base a:\"))\n",
        "     b = int(input(\"Enter exponent b:\"))\n",
        "     print(s.pow(a, b))\n",
        "  if choice == 6:\n",
        "     a = int(input(\"Enter a:\"))\n",
        "     b = int(input(\"Enter b:\"))\n",
        "     print(s.mod(a, b))\n"
      ],
      "metadata": {
        "colab": {
          "base_uri": "https://localhost:8080/",
          "height": 383
        },
        "id": "-iIOjbo6v9IP",
        "outputId": "7f110685-c15d-4d2c-e38c-2e46a1688f55"
      },
      "execution_count": 6,
      "outputs": [
        {
          "output_type": "error",
          "ename": "ModuleNotFoundError",
          "evalue": "No module named 'SimCal'",
          "traceback": [
            "\u001b[0;31m---------------------------------------------------------------------------\u001b[0m",
            "\u001b[0;31mModuleNotFoundError\u001b[0m                       Traceback (most recent call last)",
            "\u001b[0;32m<ipython-input-6-1482a401746e>\u001b[0m in \u001b[0;36m<cell line: 1>\u001b[0;34m()\u001b[0m\n\u001b[0;32m----> 1\u001b[0;31m \u001b[0;32mimport\u001b[0m \u001b[0mSimCal\u001b[0m \u001b[0;32mas\u001b[0m \u001b[0ms\u001b[0m\u001b[0;34m\u001b[0m\u001b[0;34m\u001b[0m\u001b[0m\n\u001b[0m\u001b[1;32m      2\u001b[0m \u001b[0;34m\u001b[0m\u001b[0m\n\u001b[1;32m      3\u001b[0m \u001b[0;32mwhile\u001b[0m \u001b[0;32mTrue\u001b[0m\u001b[0;34m:\u001b[0m\u001b[0;34m\u001b[0m\u001b[0;34m\u001b[0m\u001b[0m\n\u001b[1;32m      4\u001b[0m   \u001b[0mprint\u001b[0m\u001b[0;34m(\u001b[0m\u001b[0;34m\"Enter 1 to add, \\n2 to subtract, \\n3 for multiplication, \\n4 for division, \\n5 for power, \\n6 for modulus\\n 0 to exit\"\u001b[0m\u001b[0;34m)\u001b[0m\u001b[0;34m\u001b[0m\u001b[0;34m\u001b[0m\u001b[0m\n\u001b[1;32m      5\u001b[0m \u001b[0;34m\u001b[0m\u001b[0m\n",
            "\u001b[0;31mModuleNotFoundError\u001b[0m: No module named 'SimCal'",
            "",
            "\u001b[0;31m---------------------------------------------------------------------------\u001b[0;32m\nNOTE: If your import is failing due to a missing package, you can\nmanually install dependencies using either !pip or !apt.\n\nTo view examples of installing some common dependencies, click the\n\"Open Examples\" button below.\n\u001b[0;31m---------------------------------------------------------------------------\u001b[0m\n"
          ],
          "errorDetails": {
            "actions": [
              {
                "action": "open_url",
                "actionText": "Open Examples",
                "url": "/notebooks/snippets/importing_libraries.ipynb"
              }
            ]
          }
        }
      ]
    }
  ]
}