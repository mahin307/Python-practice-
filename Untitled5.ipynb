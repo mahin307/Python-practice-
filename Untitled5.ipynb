{
  "nbformat": 4,
  "nbformat_minor": 0,
  "metadata": {
    "colab": {
      "provenance": [],
      "authorship_tag": "ABX9TyOXTMV8BUysHzz6NvwZdLsb",
      "include_colab_link": true
    },
    "kernelspec": {
      "name": "python3",
      "display_name": "Python 3"
    },
    "language_info": {
      "name": "python"
    }
  },
  "cells": [
    {
      "cell_type": "markdown",
      "metadata": {
        "id": "view-in-github",
        "colab_type": "text"
      },
      "source": [
        "<a href=\"https://colab.research.google.com/github/mahin307/Python-practice-/blob/main/Untitled5.ipynb\" target=\"_parent\"><img src=\"https://colab.research.google.com/assets/colab-badge.svg\" alt=\"Open In Colab\"/></a>"
      ]
    },
    {
      "cell_type": "code",
      "source": [
        "import math\n",
        "\n",
        "def maclaurin_series(x, terms):\n",
        "    \"\"\"\n",
        "    Calculate the Maclaurin series for e^x up to a given number of terms.\n",
        "\n",
        "    Parameters:\n",
        "    x (float): The value of x.\n",
        "    terms (int): The number of terms in the series.\n",
        "\n",
        "    Returns:\n",
        "    tuple: (sum of the series, error compared to actual e^x)\n",
        "    \"\"\"\n",
        "    series_sum = 0\n",
        "    for n in range(terms):\n",
        "        series_sum += (x ** n) / math.factorial(n)\n",
        "\n",
        "    # Calculate the actual value of e^x\n",
        "    actual_value = math.exp(x)\n",
        "\n",
        "    # Error calculation\n",
        "    error = abs(actual_value - series_sum)\n",
        "\n",
        "    return series_sum, error\n",
        "\n",
        "# Create a sample input.txt if it doesn't exist\n",
        "try:\n",
        "    with open('input.txt', 'r') as infile:\n",
        "        pass  # Check if the file exists and is readable\n",
        "except FileNotFoundError:\n",
        "    with open('input.txt', 'w') as infile:\n",
        "        infile.write(\"x: 2.5\\n\")  # Example value for x\n",
        "        infile.write(\"terms: 10\\n\") # Example value for terms\n",
        "    print(\"input.txt created with sample values.\")\n",
        "\n",
        "# Read inputs from the file\n",
        "with open ('input.txt','r') as infile:\n",
        "    lines = infile.readlines()\n",
        "    x = float(lines[0].split(\":\")[1].strip())  # Extract x\n",
        "    terms = int(lines[1].split(\":\")[1].strip())  # Extract terms\n",
        "\n",
        "# Calculate the Maclaurin series sum and error\n",
        "series_sum, error = maclaurin_series(x, terms)\n",
        "\n",
        "# Write results to another file\n",
        "with open('output.txt', 'w') as outfile:\n",
        "    outfile.write(f\"Maclaurin series sum for e^{x} up to {terms} terms: {series_sum}\\n\")\n",
        "    outfile.write(f\"Error compared to actual e^{x}: {error}\\n\")\n",
        "\n",
        "print(\"Calculation complete. Results written to output.txt.\")"
      ],
      "metadata": {
        "colab": {
          "base_uri": "https://localhost:8080/"
        },
        "id": "qPwrAXALJRIP",
        "outputId": "91a637c8-5fc3-40fb-d0b9-bcdcfcc14cbf"
      },
      "execution_count": 4,
      "outputs": [
        {
          "output_type": "stream",
          "name": "stdout",
          "text": [
            "input.txt created with sample values.\n",
            "Calculation complete. Results written to output.txt.\n"
          ]
        }
      ]
    }
  ]
}