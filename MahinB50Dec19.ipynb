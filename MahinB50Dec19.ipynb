{
  "nbformat": 4,
  "nbformat_minor": 0,
  "metadata": {
    "colab": {
      "provenance": [],
      "include_colab_link": true
    },
    "kernelspec": {
      "name": "python3",
      "display_name": "Python 3"
    },
    "language_info": {
      "name": "python"
    }
  },
  "cells": [
    {
      "cell_type": "markdown",
      "metadata": {
        "id": "view-in-github",
        "colab_type": "text"
      },
      "source": [
        "<a href=\"https://colab.research.google.com/github/mahin307/Python-practice-/blob/main/MahinB50Dec19.ipynb\" target=\"_parent\"><img src=\"https://colab.research.google.com/assets/colab-badge.svg\" alt=\"Open In Colab\"/></a>"
      ]
    },
    {
      "cell_type": "code",
      "source": [],
      "metadata": {
        "id": "K7-FDKnry__w"
      },
      "execution_count": null,
      "outputs": []
    },
    {
      "cell_type": "markdown",
      "source": [
        "Variables\n",
        "Basic"
      ],
      "metadata": {
        "id": "K5Sx1ZzyBIGE"
      }
    },
    {
      "cell_type": "code",
      "source": [
        "x = 4       # x is of type int\n",
        "x = \"Sally\" # x is now of type str\n",
        "print(x)\n",
        "#If you want to specify the data type of a variable, this can be done with casting.\n",
        "x = str(3)    # x will be '3'\n",
        "y = int(3)    # y will be 3\n",
        "z = float(3)  # z will be 3.0\n",
        "#String variables can be declared either by using single or double quotes:\n",
        "x = \"John\"\n",
        "# is the same as\n",
        "x = 'John'\n",
        "#Variable names are case-sensitive.\n",
        "a = 4\n",
        "A = \"Sally\"\n",
        "#A will not overwrite a\n",
        "#Legal variable names:\n",
        "myvar = \"John\"\n",
        "my_var = \"John\"\n",
        "_my_var = \"John\"\n",
        "myVar = \"John\"\n",
        "MYVAR = \"John\"\n",
        "myvar2 = \"John\"\n",
        "#Python allows you to assign values to multiple variables in one line:\n",
        "x, y, z = \"Orange\", \"Banana\", \"Cherry\"\n",
        "print(x)\n",
        "print(y)\n",
        "print(z)\n",
        "#And you can assign the same value to multiple variables in one line:\n",
        "x = y = z = \"Orange\"\n",
        "print(x)\n",
        "print(y)\n",
        "print(z)\n",
        "#Unpack a list:\n",
        "fruits = [\"apple\", \"banana\", \"cherry\"]\n",
        "x, y, z = fruits\n",
        "print(x)\n",
        "print(y)\n",
        "print(z)\n",
        "\n",
        "#The Python print() function is often used to output variables.\n",
        "#Get your own Python Server\n",
        "x = \"Python is awesome\"\n",
        "print(x)\n",
        "#In the print() function, you output multiple variables, separated by a comma:\n",
        "x = \"Python\"\n",
        "y = \"is\"\n",
        "z = \"awesome\"\n",
        "print(x, y, z)\n",
        "#You can also use the + operator to output multiple variables:\n",
        "x = \"Python \"\n",
        "y = \"is \"\n",
        "z = \"awesome\"\n",
        "print(x + y + z)\n",
        "#For numbers, the + character works as a mathematical operator:\n",
        "x = 5\n",
        "y = 10\n",
        "print(x + y)\n",
        "#The best way to output multiple variables in the print() function is to separate them with commas, which even support different data types:\n",
        "x = 5\n",
        "y = \"John\"\n",
        "print(x, y)\n",
        "\n",
        "#Create a variable outside of a function, and use it inside the function\n",
        "x = \"awesome\"\n",
        "\n",
        "def myfunc():\n",
        "  print(\"Python is \" + x)\n",
        "\n",
        "myfunc()\n",
        "#Create a variable inside a function, with the same name as the global variable\n",
        "x = \"awesome\"\n",
        "\n",
        "def myfunc():\n",
        "  x = \"fantastic\"\n",
        "  print(\"Python is \" + x)\n",
        "\n",
        "myfunc()\n",
        "\n",
        "print(\"Python is \" + x)\n",
        "#If you use the global keyword, the variable belongs to the global scope:\n",
        "def myfunc():\n",
        "  global x\n",
        "  x = \"fantastic\"\n",
        "\n",
        "myfunc()\n",
        "\n",
        "print(\"Python is \" + x)\n",
        "#To change the value of a global variable inside a function, refer to the variable by using the global keyword:\n",
        "x = \"awesome\"\n",
        "\n",
        "def myfunc():\n",
        "  global x\n",
        "  x = \"fantastic\"\n",
        "\n",
        "myfunc()\n",
        "\n",
        "print(\"Python is \" + x)\n"
      ],
      "metadata": {
        "colab": {
          "base_uri": "https://localhost:8080/"
        },
        "id": "Q7bClHlwBNFu",
        "outputId": "2ac480bf-2f82-4592-f34a-f0d7238b536a"
      },
      "execution_count": 1,
      "outputs": [
        {
          "output_type": "stream",
          "name": "stdout",
          "text": [
            "Sally\n",
            "Orange\n",
            "Banana\n",
            "Cherry\n",
            "Orange\n",
            "Orange\n",
            "Orange\n",
            "apple\n",
            "banana\n",
            "cherry\n",
            "Python is awesome\n",
            "Python is awesome\n",
            "Python is awesome\n",
            "15\n",
            "5 John\n",
            "Python is awesome\n",
            "Python is fantastic\n",
            "Python is awesome\n",
            "Python is fantastic\n",
            "Python is fantastic\n"
          ]
        }
      ]
    },
    {
      "cell_type": "markdown",
      "source": [
        "Data **Type** **bold text**"
      ],
      "metadata": {
        "id": "HnuqauMdF7EO"
      }
    },
    {
      "cell_type": "markdown",
      "source": [
        "If you want to specify the data type of a variable, this can be done with casting."
      ],
      "metadata": {
        "id": "iUDYrN0CBYvJ"
      }
    },
    {
      "cell_type": "code",
      "source": [
        "#Print the data type of the variable x:\n",
        "x = 5\n",
        "\n",
        "# String\n",
        "x = \"Hello World\"\n",
        "print(x)\n",
        "\n",
        "# Integer\n",
        "x = 20\n",
        "print(x)\n",
        "\n",
        "# Float\n",
        "x = 20.5\n",
        "print(x)\n",
        "\n",
        "# Complex number\n",
        "x = 1j\n",
        "print(x)\n",
        "\n",
        "# List\n",
        "x = [\"apple\", \"banana\", \"cherry\"]\n",
        "print(x)\n",
        "\n",
        "# Tuple\n",
        "x = (\"apple\", \"banana\", \"cherry\")\n",
        "print(x)\n",
        "\n",
        "# Range\n",
        "x = range(6)\n",
        "print(list(x))  # Convert to list to display the range\n",
        "\n",
        "# Dictionary\n",
        "x = {\"name\": \"John\", \"age\": 36}\n",
        "print(x)\n",
        "\n",
        "# Set\n",
        "x = {\"apple\", \"banana\", \"cherry\"}\n",
        "print(x)\n",
        "\n",
        "# Frozenset\n",
        "x = frozenset({\"apple\", \"banana\", \"cherry\"})\n",
        "print(x)\n",
        "\n",
        "# Boolean\n",
        "x = True\n",
        "print(x)\n",
        "\n",
        "# Bytes\n",
        "x = b\"Hello\"\n",
        "print(x)\n",
        "\n",
        "# Bytearray\n",
        "x = bytearray(5)\n",
        "print(x)\n",
        "\n",
        "# Memoryview\n",
        "x = memoryview(bytes(5))\n",
        "print(x)\n",
        "\n",
        "# NoneType\n",
        "x = None\n",
        "print(x)\n"
      ],
      "metadata": {
        "colab": {
          "base_uri": "https://localhost:8080/"
        },
        "id": "_WUuhPOnGF7M",
        "outputId": "4dfac9a7-0966-42de-e7a4-deeb200f54f4"
      },
      "execution_count": 2,
      "outputs": [
        {
          "output_type": "stream",
          "name": "stdout",
          "text": [
            "Hello World\n",
            "20\n",
            "20.5\n",
            "1j\n",
            "['apple', 'banana', 'cherry']\n",
            "('apple', 'banana', 'cherry')\n",
            "[0, 1, 2, 3, 4, 5]\n",
            "{'name': 'John', 'age': 36}\n",
            "{'apple', 'cherry', 'banana'}\n",
            "frozenset({'apple', 'cherry', 'banana'})\n",
            "True\n",
            "b'Hello'\n",
            "bytearray(b'\\x00\\x00\\x00\\x00\\x00')\n",
            "<memory at 0x7eeb879bc7c0>\n",
            "None\n"
          ]
        }
      ]
    },
    {
      "cell_type": "code",
      "source": [],
      "metadata": {
        "id": "h71z4FQrBppz"
      },
      "execution_count": null,
      "outputs": []
    },
    {
      "cell_type": "markdown",
      "source": [
        "**Numbers**"
      ],
      "metadata": {
        "id": "MHyW7B9eIa8k"
      }
    },
    {
      "cell_type": "code",
      "source": [
        "# Creating variables of numeric types\n",
        "x = 1      # int\n",
        "y = 2.8    # float\n",
        "z = 1j     # complex\n",
        "\n",
        "# Verifying the types of the variables\n",
        "print(type(x))  # Output: <class 'int'>\n",
        "print(type(y))  # Output: <class 'float'>\n",
        "print(type(z))  # Output: <class 'complex'>\n",
        "\n",
        "# Example with integers\n",
        "x = 1\n",
        "y = 35656222554887711\n",
        "z = -3255522\n",
        "\n",
        "print(type(x))  # Output: <class 'int'>\n",
        "print(type(y))  # Output: <class 'int'>\n",
        "print(type(z))  # Output: <class 'int'>\n",
        "\n",
        "# Floats\n",
        "x = 1.10\n",
        "y = 1.0\n",
        "z = -35.59\n",
        "\n",
        "print(type(x))  # Output: <class 'float'>\n",
        "print(type(y))  # Output: <class 'float'>\n",
        "print(type(z))  # Output: <class 'float'>\n",
        "\n",
        "# Float can also be scientific numbers with an \"e\" to indicate the power of 10.\n",
        "x = 35e3\n",
        "y = 12E4\n",
        "z = -87.7e100\n",
        "\n",
        "print(type(x))  # Output: <class 'float'>\n",
        "print(type(y))  # Output: <class 'float'>\n",
        "print(type(z))  # Output: <class 'float'>\n",
        "\n",
        "# Complex numbers are written with a \"j\" as the imaginary part\n",
        "x = 3 + 5j\n",
        "y = 5j\n",
        "z = -5j\n",
        "\n",
        "print(type(x))  # Output: <class 'complex'>\n",
        "print(type(y))  # Output: <class 'complex'>\n",
        "print(type(z))  # Output: <class 'complex'>\n",
        "\n",
        "# Type Conversion\n",
        "x = 1    # int\n",
        "y = 2.8  # float\n",
        "z = 1j   # complex\n",
        "\n",
        "# Convert from int to float\n",
        "a = float(x)\n",
        "\n",
        "# Convert from float to int\n",
        "b = int(y)\n",
        "\n",
        "# Convert from int to complex\n",
        "c = complex(x)\n",
        "\n",
        "print(a)  # Output: 1.0\n",
        "print(b)  # Output: 2\n",
        "print(c)  # Output: (1+0j)\n",
        "\n",
        "print(type(a))  # Output: <class 'float'>\n",
        "print(type(b))  # Output: <class 'int'>\n",
        "print(type(c))  # Output: <class 'complex'>\n"
      ],
      "metadata": {
        "colab": {
          "base_uri": "https://localhost:8080/"
        },
        "id": "itKErDQpIk85",
        "outputId": "22ed8314-a496-4ab7-cae1-cb35e7fd7b70"
      },
      "execution_count": 3,
      "outputs": [
        {
          "output_type": "stream",
          "name": "stdout",
          "text": [
            "<class 'int'>\n",
            "<class 'float'>\n",
            "<class 'complex'>\n",
            "<class 'int'>\n",
            "<class 'int'>\n",
            "<class 'int'>\n",
            "<class 'float'>\n",
            "<class 'float'>\n",
            "<class 'float'>\n",
            "<class 'float'>\n",
            "<class 'float'>\n",
            "<class 'float'>\n",
            "<class 'complex'>\n",
            "<class 'complex'>\n",
            "<class 'complex'>\n",
            "1.0\n",
            "2\n",
            "(1+0j)\n",
            "<class 'float'>\n",
            "<class 'int'>\n",
            "<class 'complex'>\n"
          ]
        }
      ]
    }
  ]
}