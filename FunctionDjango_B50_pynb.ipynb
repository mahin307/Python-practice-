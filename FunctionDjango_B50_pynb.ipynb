{
  "nbformat": 4,
  "nbformat_minor": 0,
  "metadata": {
    "colab": {
      "provenance": [],
      "authorship_tag": "ABX9TyMzLzdK1Wxi8qVqQt5v+Kwg",
      "include_colab_link": true
    },
    "kernelspec": {
      "name": "python3",
      "display_name": "Python 3"
    },
    "language_info": {
      "name": "python"
    }
  },
  "cells": [
    {
      "cell_type": "markdown",
      "metadata": {
        "id": "view-in-github",
        "colab_type": "text"
      },
      "source": [
        "<a href=\"https://colab.research.google.com/github/mahin307/Python-practice-/blob/main/FunctionDjango_B50_pynb.ipynb\" target=\"_parent\"><img src=\"https://colab.research.google.com/assets/colab-badge.svg\" alt=\"Open In Colab\"/></a>"
      ]
    },
    {
      "cell_type": "markdown",
      "source": [],
      "metadata": {
        "id": "ghE9ZMmVwtGP"
      }
    },
    {
      "cell_type": "code",
      "source": [
        "def SeriesSum(n):\n",
        "    \"\"\"\n",
        "    Calculate the sum of the Gaussian series: 1 + 2 + 3 + ... + n.\n",
        "\n",
        "    Parameters:\n",
        "    n (int): The last number in the series.\n",
        "\n",
        "    Returns:\n",
        "    int: The sum of the series.\n",
        "    \"\"\"\n",
        "    # Using the formula: sum = n * (n + 1) / 2\n",
        "    return n * (n + 1) // 2  # Use integer division to avoid floating-point results\n",
        "\n",
        "# Example usage:\n",
        "if __name__ == \"__main__\":\n",
        "    try:\n",
        "        # Input from the user\n",
        "        n = int(input(\"Enter a positive integer n: \"))\n",
        "        if n < 1:\n",
        "            print(\"Please enter a positive integer greater than 0.\")\n",
        "        else:\n",
        "            # Calculate the sum and display the result\n",
        "            result = SeriesSum(n)\n",
        "            print(f\"The sum of the Gaussian series up to {n} is: {result}\")\n",
        "    except ValueError:\n",
        "        print(\"Invalid input! Please enter a positive integer.\")\n"
      ],
      "metadata": {
        "colab": {
          "base_uri": "https://localhost:8080/"
        },
        "id": "uEgxP0HDwyMP",
        "outputId": "b9ea2952-e45a-4a88-fc73-6bd2f3612067"
      },
      "execution_count": 1,
      "outputs": [
        {
          "output_type": "stream",
          "name": "stdout",
          "text": [
            "Enter a positive integer n: 45\n",
            "The sum of the Gaussian series up to 45 is: 1035\n"
          ]
        }
      ]
    }
  ]
}