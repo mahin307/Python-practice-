{
  "nbformat": 4,
  "nbformat_minor": 0,
  "metadata": {
    "colab": {
      "provenance": [],
      "authorship_tag": "ABX9TyPxuVhWNpvXtkhpbLKCXois",
      "include_colab_link": true
    },
    "kernelspec": {
      "name": "python3",
      "display_name": "Python 3"
    },
    "language_info": {
      "name": "python"
    }
  },
  "cells": [
    {
      "cell_type": "markdown",
      "metadata": {
        "id": "view-in-github",
        "colab_type": "text"
      },
      "source": [
        "<a href=\"https://colab.research.google.com/github/mahin307/Python-practice-/blob/main/Testing_Module_2.ipynb\" target=\"_parent\"><img src=\"https://colab.research.google.com/assets/colab-badge.svg\" alt=\"Open In Colab\"/></a>"
      ]
    },
    {
      "cell_type": "code",
      "source": [
        "# Filename: MissingValsModule.py\n",
        "\n",
        "def getMissingVals(lst, endOfFirstList, startOf2ndList):\n",
        "    # Ensure the indices are valid\n",
        "    if endOfFirstList >= startOf2ndList or startOf2ndList >= len(lst):\n",
        "        return \"Invalid indices\"\n",
        "\n",
        "    # Get the elements from the two parts of the list\n",
        "    first_part = lst[:endOfFirstList + 1]\n",
        "    second_part = lst[startOf2ndList:]\n",
        "\n",
        "    # Find missing elements (elements that are between the two parts)\n",
        "    missing_vals = lst[endOfFirstList + 1:startOf2ndList]\n",
        "\n",
        "    # If there are no missing values, return the \"No missing Val\" message\n",
        "    if not missing_vals:\n",
        "        return \"No missing Val\"\n",
        "\n",
        "    return missing_vals\n"
      ],
      "metadata": {
        "id": "GaJDoJU2xWBC"
      },
      "execution_count": 7,
      "outputs": []
    },
    {
      "cell_type": "code",
      "source": [
        "# Filename: testMissingVals.py\n",
        "import sys\n",
        "sys.path.append('path_to_your_current_directory')  # Ensure the directory containing the module is in the path\n",
        "\n",
        "import MissingValsModule as m\n",
        "\n",
        "# Test the function\n",
        "sample_list = [1, 2, 3, 4, 5, 6, 7, 8, 9]\n",
        "end_of_first_list = 4\n",
        "start_of_second_list = 7\n",
        "\n",
        "missing_values = m.getMissingVals(sample_list, end_of_first_list, start_of_second_list)\n",
        "print(missing_values)"
      ],
      "metadata": {
        "colab": {
          "base_uri": "https://localhost:8080/",
          "height": 383
        },
        "id": "pzXgo6pIxYX0",
        "outputId": "17deb57f-fb20-4dd0-fa64-083c72a0a5ae"
      },
      "execution_count": 8,
      "outputs": [
        {
          "output_type": "error",
          "ename": "ModuleNotFoundError",
          "evalue": "No module named 'MissingValsModule'",
          "traceback": [
            "\u001b[0;31m---------------------------------------------------------------------------\u001b[0m",
            "\u001b[0;31mModuleNotFoundError\u001b[0m                       Traceback (most recent call last)",
            "\u001b[0;32m<ipython-input-8-f93421e0cc9a>\u001b[0m in \u001b[0;36m<cell line: 5>\u001b[0;34m()\u001b[0m\n\u001b[1;32m      3\u001b[0m \u001b[0msys\u001b[0m\u001b[0;34m.\u001b[0m\u001b[0mpath\u001b[0m\u001b[0;34m.\u001b[0m\u001b[0mappend\u001b[0m\u001b[0;34m(\u001b[0m\u001b[0;34m'path_to_your_current_directory'\u001b[0m\u001b[0;34m)\u001b[0m  \u001b[0;31m# Ensure the directory containing the module is in the path\u001b[0m\u001b[0;34m\u001b[0m\u001b[0;34m\u001b[0m\u001b[0m\n\u001b[1;32m      4\u001b[0m \u001b[0;34m\u001b[0m\u001b[0m\n\u001b[0;32m----> 5\u001b[0;31m \u001b[0;32mimport\u001b[0m \u001b[0mMissingValsModule\u001b[0m \u001b[0;32mas\u001b[0m \u001b[0mm\u001b[0m\u001b[0;34m\u001b[0m\u001b[0;34m\u001b[0m\u001b[0m\n\u001b[0m\u001b[1;32m      6\u001b[0m \u001b[0;34m\u001b[0m\u001b[0m\n\u001b[1;32m      7\u001b[0m \u001b[0;31m# Test the function\u001b[0m\u001b[0;34m\u001b[0m\u001b[0;34m\u001b[0m\u001b[0m\n",
            "\u001b[0;31mModuleNotFoundError\u001b[0m: No module named 'MissingValsModule'",
            "",
            "\u001b[0;31m---------------------------------------------------------------------------\u001b[0;32m\nNOTE: If your import is failing due to a missing package, you can\nmanually install dependencies using either !pip or !apt.\n\nTo view examples of installing some common dependencies, click the\n\"Open Examples\" button below.\n\u001b[0;31m---------------------------------------------------------------------------\u001b[0m\n"
          ],
          "errorDetails": {
            "actions": [
              {
                "action": "open_url",
                "actionText": "Open Examples",
                "url": "/notebooks/snippets/importing_libraries.ipynb"
              }
            ]
          }
        }
      ]
    }
  ]
}